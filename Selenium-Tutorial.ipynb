{
 "cells": [
  {
   "cell_type": "markdown",
   "metadata": {},
   "source": [
    "# Selenium Tutorial\n",
    "\n",
    "Selenium is a suite of tools and libraries that can web scrape and automate web browser interactions. Web browser automation includes website testing, searching, gathering data, and any other interaction you have with a website. For example, you might use selenium to test various features of a website you build, or you might use selenium to help in gathering data or papers for a literature review. The Selenium WebDriver contains the most useful features for us. "
   ]
  },
  {
   "cell_type": "markdown",
   "metadata": {},
   "source": [
    "## Capabilities\n",
    "\n",
    "Selenium is a popular choice for web browser automation because of it's power and flexibility. Selenium:\n",
    "-   is free and open source\n",
    "-   supports multiple languages (Python, Java, CSS, Ruby, etc.)\n",
    "-   works on multiple operating systems (Mac, Windows, Linux)\n",
    "-   works on multiple web browsers (Chrome, )"
   ]
  },
  {
   "cell_type": "markdown",
   "metadata": {},
   "source": [
    "## Installation\n",
    "\n",
    "### Web Driver Installation\n"
   ]
  },
  {
   "cell_type": "markdown",
   "metadata": {},
   "source": [
    "## Tutorial\n",
    "\n",
    "### Import\n",
    "\n",
    "### Access elements\n",
    "\n",
    "\n",
    "### Loop through elements"
   ]
  },
  {
   "cell_type": "markdown",
   "metadata": {},
   "source": [
    "## Troubleshooting\n",
    "\n",
    "### Pip issues\n",
    "\n",
    "### Driver verification\n",
    "\n",
    "### Web issues\n",
    "\n",
    "### Common Error: Output exceeds \n"
   ]
  },
  {
   "cell_type": "markdown",
   "metadata": {},
   "source": [
    "## More resources"
   ]
  }
 ],
 "metadata": {
  "kernelspec": {
   "display_name": "Python 3.10.5 ('eds-217')",
   "language": "python",
   "name": "python3"
  },
  "language_info": {
   "name": "python",
   "version": "3.10.5"
  },
  "orig_nbformat": 4,
  "vscode": {
   "interpreter": {
    "hash": "477af6cd1d51814771407b700a15141f197761cd17758f872ce5e89f60648a59"
   }
  }
 },
 "nbformat": 4,
 "nbformat_minor": 2
}
