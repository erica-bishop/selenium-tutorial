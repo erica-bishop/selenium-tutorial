{
 "cells": [
  {
   "cell_type": "markdown",
   "metadata": {},
   "source": [
    "# Selenium Tutorial\n",
    "\n",
    "Selenium is a suite of tools and libraries that can web scrape and automate web browser interactions. Web browser automation includes website testing, searching, gathering data, and any other interaction you have with a website. For example, you might use selenium to test various features of a website you build, or you might use selenium to help in gathering data or papers for a literature review. The Selenium WebDriver contains the most useful features for us. "
   ]
  },
  {
   "cell_type": "markdown",
   "metadata": {},
   "source": [
    "## Capabilities\n",
    "\n",
    "Selenium is a popular choice for web browser automation because of it's power and flexibility. Selenium:\n",
    "-   is free and open source\n",
    "-   supports multiple languages (Python, Java, CSS, Ruby, etc.)\n",
    "-   works on multiple operating systems (Mac, Windows, Linux)\n",
    "-   works on multiple web browsers (Chrome, Firefox, Internet Explorer)"
   ]
  },
  {
   "cell_type": "markdown",
   "metadata": {},
   "source": [
    "## Installation\n",
    "1) Run this in terminal: `pip install selenium` \n",
    "    (Use `pip3` for MacOS)\n",
    "\n",
    "2) Import `selenium` at beginning of project\n",
    "\n",
    "### Web Driver Installation\n",
    "\n",
    "1) Download ChromeWebDriver (or whichever browser you would like to use)\n",
    "    - Know your version of Chrome you are using\n",
    "    - Select your OS accordingly\n",
    "2) Establish path to wherever you saved the WebDriver download\n",
    "    - `path = r\"C:\\Users\\kiran\\Desktop\\eds217\\chromedriver.exe\"`   \n",
    "            *** Mac users don't need to begin the string w/ r'__'. Only had to do this using Windows because of the direction of backslashes making it a different type\n",
    "3) Import WebDriver using `from selenium import webdriver`\n",
    "4) Initialize WebDriver: `driver = webdriver.Chrome(path)` \n"
   ]
  },
  {
   "cell_type": "markdown",
   "metadata": {},
   "source": [
    "## Tutorial\n",
    "\n",
    "### Import\n",
    "\n",
    "### Access elements\n",
    "\n",
    "\n",
    "### Loop through elements"
   ]
  },
  {
   "cell_type": "markdown",
   "metadata": {},
   "source": [
    "## Troubleshooting\n",
    "When using Selenium for the first time, we encountered some common issues to be aware of.\n",
    "\n",
    "### Pip issues\n",
    "Make sure to install selenium into the same environment that you're working in or your project environment. If you install it in your base environment on your local machine you may get an error. \n",
    "\n",
    "### Driver verification\n",
    "When running:\n",
    "`from selenium import webdriver`\n",
    "`driver = webdriver.Chrome(PATH)`\n",
    "you may get an error that says you cannot open or run the driver because the source cannot be verified. Or something along the lines of:\n",
    "<img src=\"./error_msg.png\" alt=\"error message\" width=\"350\" class=\"center\"/>>\n",
    "\n",
    "To resolve this issue, run the following command in the the terminal to remove the restrictions:\n",
    "`xattr -d com.apple.quarantine chromedriver`\n",
    "Make sure to run this from wihtin the same directory where you saved chromedriver.\n",
    "\n",
    "### Web issues\n",
    "Because websites are constantly being updated and changed, and your script depends on the arrangement and elements in the website you are interacting with, your code could break. This makes reproducibility tougher, but thoroughly commenting your code can help fixing your code esier.\n",
    "\n",
    "### Output errors\n",
    "You may find it helpful to set your code to run headless so that no visual updates are output. To do this, run:\n",
    "`options = Options()`\n",
    "`options.headless = True`\n",
    "`options.add_argument(\"--window-size=1920,1200\")`\n",
    "`driver = webdriver.Chrome(options=options, executable_path=PATH)`\n",
    "\n"
   ]
  },
  {
   "cell_type": "markdown",
   "metadata": {},
   "source": [
    "## More resources"
   ]
  }
 ],
 "metadata": {
  "kernelspec": {
   "display_name": "Python 3.10.5 ('eds-217')",
   "language": "python",
   "name": "python3"
  },
  "language_info": {
   "name": "python",
   "version": "3.10.5"
  },
  "orig_nbformat": 4,
  "vscode": {
   "interpreter": {
    "hash": "477af6cd1d51814771407b700a15141f197761cd17758f872ce5e89f60648a59"
   }
  }
 },
 "nbformat": 4,
 "nbformat_minor": 2
}
