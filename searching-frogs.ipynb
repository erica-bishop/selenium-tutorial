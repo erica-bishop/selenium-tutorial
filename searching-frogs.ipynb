{
 "cells": [
  {
   "cell_type": "code",
   "execution_count": 7,
   "metadata": {},
   "outputs": [
    {
     "name": "stdout",
     "output_type": "stream",
     "text": [
      "sample test case started\n"
     ]
    },
    {
     "name": "stderr",
     "output_type": "stream",
     "text": [
      "/var/folders/q7/j7jknlxd3s5ds0bbtnh3q5g40000gn/T/ipykernel_97844/3382329700.py:9: DeprecationWarning: executable_path has been deprecated, please pass in a Service object\n",
      "  driver = webdriver.Chrome(path)\n"
     ]
    },
    {
     "name": "stdout",
     "output_type": "stream",
     "text": [
      "enjoy the frogs!\n"
     ]
    }
   ],
   "source": [
    "import selenium\n",
    "from selenium import webdriver  \n",
    "import time  \n",
    "from selenium.webdriver.common.keys import Keys  \n",
    "from selenium.webdriver.common.by import By\n",
    "from PIL import Image\n",
    "print(\"sample test case started\")  \n",
    "path = \"/Users/colleenmccamy/Documents/MEDS/selenium-repo/chromedriver\"\n",
    "driver = webdriver.Chrome(path) \n",
    "#maximize the window size  \n",
    "driver.maximize_window()  \n",
    "#navigate to the url  \n",
    "driver.get(\"https://www.usgs.gov/products/data\")  \n",
    "#identify the Google search text box and enter the value  \n",
    "driver.find_element(By.NAME, \"keywords\").send_keys(\"frogs\")  \n",
    "time.sleep(3)  \n",
    "#click on the Google search button  \n",
    "driver.find_element(By.ID, \"edit-submit-search\").send_keys(Keys.ENTER)  \n",
    "time.sleep(3)  \n",
    "#taking a screenshot\n",
    "driver.save_screenshot(\"frog_search.png\")\n",
    "screenshot = Image.open(\"frog_search.png\")\n",
    "screenshot.show()\n",
    "time.sleep(3) \n",
    "#close the browser  \n",
    "driver.close()  \n",
    "driver.quit()\n",
    "print(\"enjoy the frogs!\")"
   ]
  },
  {
   "cell_type": "code",
   "execution_count": null,
   "metadata": {},
   "outputs": [],
   "source": []
  }
 ],
 "metadata": {
  "kernelspec": {
   "display_name": "Python 3.10.5 ('eds-217')",
   "language": "python",
   "name": "python3"
  },
  "language_info": {
   "codemirror_mode": {
    "name": "ipython",
    "version": 3
   },
   "file_extension": ".py",
   "mimetype": "text/x-python",
   "name": "python",
   "nbconvert_exporter": "python",
   "pygments_lexer": "ipython3",
   "version": "3.10.5"
  },
  "orig_nbformat": 4,
  "vscode": {
   "interpreter": {
    "hash": "887da037b427e4b99c7821a3ace74f381e75d170ea21b461a22111a111d129df"
   }
  }
 },
 "nbformat": 4,
 "nbformat_minor": 2
}
