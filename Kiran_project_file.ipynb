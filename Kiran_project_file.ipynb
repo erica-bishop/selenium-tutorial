{
 "cells": [
  {
   "cell_type": "code",
   "execution_count": 2,
   "metadata": {},
   "outputs": [],
   "source": [
    "import selenium"
   ]
  },
  {
   "cell_type": "code",
   "execution_count": 37,
   "metadata": {},
   "outputs": [],
   "source": [
    "\n",
    "from selenium import webdriver\n",
    "from selenium.webdriver.chrome.options import Options\n"
   ]
  },
  {
   "cell_type": "code",
   "execution_count": 52,
   "metadata": {},
   "outputs": [
    {
     "name": "stderr",
     "output_type": "stream",
     "text": [
      "C:\\Users\\kiran\\AppData\\Local\\Temp\\ipykernel_33004\\2905448145.py:3: DeprecationWarning: executable_path has been deprecated, please pass in a Service object\n",
      "  driver = webdriver.Chrome(path) #driver will now take you to any Chrome page that is entered\n"
     ]
    },
    {
     "name": "stdout",
     "output_type": "stream",
     "text": [
      "Home | UC Santa Barbara\n"
     ]
    }
   ],
   "source": [
    "path = r\"C:\\Users\\kiran\\Desktop\\eds217\\chromedriver.exe\" #windows users may need to put an r before the quotations because of '\\U' can change the type of this path\n",
    "\n",
    "driver = webdriver.Chrome(path) #driver will now take you to any Chrome page that is entered \n",
    "\n",
    "driver.get(\"https://www.ucsb.edu/\") #takes you to a certain page\n",
    "print(driver.title) #tells you the title of the webpage you entered \n",
    "driver.close() #quit the page\n",
    "\n"
   ]
  },
  {
   "cell_type": "markdown",
   "metadata": {},
   "source": []
  },
  {
   "cell_type": "code",
   "execution_count": null,
   "metadata": {},
   "outputs": [],
   "source": []
  }
 ],
 "metadata": {
  "kernelspec": {
   "display_name": "Python 3.10.7 64-bit (microsoft store)",
   "language": "python",
   "name": "python3"
  },
  "language_info": {
   "codemirror_mode": {
    "name": "ipython",
    "version": 3
   },
   "file_extension": ".py",
   "mimetype": "text/x-python",
   "name": "python",
   "nbconvert_exporter": "python",
   "pygments_lexer": "ipython3",
   "version": "3.10.7"
  },
  "orig_nbformat": 4,
  "vscode": {
   "interpreter": {
    "hash": "3828e1764bd10f1408b0f26225ac627985e148d4a1ef270c2379eefe89547715"
   }
  }
 },
 "nbformat": 4,
 "nbformat_minor": 2
}
