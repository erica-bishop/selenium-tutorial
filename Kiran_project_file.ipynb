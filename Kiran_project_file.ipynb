{
 "cells": [
  {
   "cell_type": "code",
   "execution_count": 1,
   "metadata": {},
   "outputs": [],
   "source": [
    "import selenium"
   ]
  },
  {
   "cell_type": "code",
   "execution_count": 2,
   "metadata": {},
   "outputs": [],
   "source": [
    "\n",
    "from selenium import webdriver\n",
    "from selenium.webdriver.chrome.options import Options\n",
    "from selenium.webdriver.chrome.options import Options\n",
    "\n",
    "options = Options()\n",
    "options.headless = True\n",
    "options.add_argument(\"--window-size=1920,1200\")\n",
    "\n",
    "\n",
    "\n",
    "\n",
    "\n",
    "\n"
   ]
  },
  {
   "cell_type": "code",
   "execution_count": 3,
   "metadata": {},
   "outputs": [
    {
     "name": "stderr",
     "output_type": "stream",
     "text": [
      "C:\\Users\\kiran\\AppData\\Local\\Temp\\ipykernel_16012\\3269780863.py:3: DeprecationWarning: executable_path has been deprecated, please pass in a Service object\n",
      "  driver = webdriver.Chrome(path) #driver will now take you to any Chrome page that is entered\n"
     ]
    }
   ],
   "source": [
    "path = r\"C:\\Users\\kiran\\Desktop\\eds217\\chromedriver.exe\" #windows users may need to put an r before the quotations because of '\\U' can change the type of this path\n",
    "\n",
    "driver = webdriver.Chrome(path) #driver will now take you to any Chrome page that is entered \n",
    "\n",
    "#driver.get(\"https://www.ucsb.edu/\") #takes you to a certain page\n",
    "#print(driver.title) #tells you the title of the webpage you entered \n",
    "#driver.close() #quit the page\n"
   ]
  },
  {
   "cell_type": "code",
   "execution_count": 4,
   "metadata": {},
   "outputs": [],
   "source": [
    "from selenium.webdriver.common.keys import Keys\n",
    "from selenium.webdriver.common.by import By\n"
   ]
  },
  {
   "cell_type": "code",
   "execution_count": 5,
   "metadata": {},
   "outputs": [],
   "source": [
    "#try Tim's tutorial for accessing and printing elements\n",
    "driver.get(\"https://www.dataone.org/\")\n",
    "\n",
    "\n",
    "#now access the search bar by class\n",
    "search = driver.find_element(By.ID, \"search-term\")\n",
    "search.send_keys(\"marine geology\")\n",
    "search.send_keys(Keys.RETURN)\n",
    "\n"
   ]
  },
  {
   "cell_type": "code",
   "execution_count": 7,
   "metadata": {},
   "outputs": [
    {
     "ename": "WebDriverException",
     "evalue": "Message: chrome not reachable\n  (Session info: chrome=105.0.5195.102)\nStacktrace:\nBacktrace:\n\tOrdinal0 [0x0115DF13+2219795]\n\tOrdinal0 [0x010F2841+1779777]\n\tOrdinal0 [0x01004100+803072]\n\tOrdinal0 [0x00FF9BF2+760818]\n\tOrdinal0 [0x00FECD35+707893]\n\tOrdinal0 [0x00FF1122+725282]\n\tOrdinal0 [0x00FF5699+743065]\n\tOrdinal0 [0x01005610+808464]\n\tOrdinal0 [0x0105E93A+1173818]\n\tOrdinal0 [0x0104E616+1107478]\n\tOrdinal0 [0x01027F89+950153]\n\tOrdinal0 [0x01028F56+954198]\n\tGetHandleVerifier [0x01452CB2+3040210]\n\tGetHandleVerifier [0x01442BB4+2974420]\n\tGetHandleVerifier [0x011F6A0A+565546]\n\tGetHandleVerifier [0x011F5680+560544]\n\tOrdinal0 [0x010F9A5C+1808988]\n\tOrdinal0 [0x010FE3A8+1827752]\n\tOrdinal0 [0x010FE495+1827989]\n\tOrdinal0 [0x011080A4+1867940]\n\tBaseThreadInitThunk [0x76BD6739+25]\n\tRtlGetFullPathName_UEx [0x779590AF+1215]\n\tRtlGetFullPathName_UEx [0x7795907D+1165]\n",
     "output_type": "error",
     "traceback": [
      "\u001b[1;31m---------------------------------------------------------------------------\u001b[0m",
      "\u001b[1;31mWebDriverException\u001b[0m                        Traceback (most recent call last)",
      "Cell \u001b[1;32mIn [7], line 1\u001b[0m\n\u001b[1;32m----> 1\u001b[0m link \u001b[38;5;241m=\u001b[39m \u001b[43mdriver\u001b[49m\u001b[38;5;241;43m.\u001b[39;49m\u001b[43mfind_element\u001b[49m\u001b[43m(\u001b[49m\u001b[43mBy\u001b[49m\u001b[38;5;241;43m.\u001b[39;49m\u001b[43mLINK_TEXT\u001b[49m\u001b[43m,\u001b[49m\u001b[43m \u001b[49m\u001b[38;5;124;43m\"\u001b[39;49m\u001b[38;5;124;43mHosted Repository\u001b[39;49m\u001b[38;5;124;43m\"\u001b[39;49m\u001b[43m)\u001b[49m\n\u001b[0;32m      2\u001b[0m link\u001b[38;5;241m.\u001b[39mclick()\n",
      "File \u001b[1;32m~\\AppData\\Local\\Packages\\PythonSoftwareFoundation.Python.3.10_qbz5n2kfra8p0\\LocalCache\\local-packages\\Python310\\site-packages\\selenium\\webdriver\\remote\\webdriver.py:855\u001b[0m, in \u001b[0;36mWebDriver.find_element\u001b[1;34m(self, by, value)\u001b[0m\n\u001b[0;32m    852\u001b[0m     by \u001b[39m=\u001b[39m By\u001b[39m.\u001b[39mCSS_SELECTOR\n\u001b[0;32m    853\u001b[0m     value \u001b[39m=\u001b[39m \u001b[39m'\u001b[39m\u001b[39m[name=\u001b[39m\u001b[39m\"\u001b[39m\u001b[39m%s\u001b[39;00m\u001b[39m\"\u001b[39m\u001b[39m]\u001b[39m\u001b[39m'\u001b[39m \u001b[39m%\u001b[39m value\n\u001b[1;32m--> 855\u001b[0m \u001b[39mreturn\u001b[39;00m \u001b[39mself\u001b[39;49m\u001b[39m.\u001b[39;49mexecute(Command\u001b[39m.\u001b[39;49mFIND_ELEMENT, {\n\u001b[0;32m    856\u001b[0m     \u001b[39m'\u001b[39;49m\u001b[39musing\u001b[39;49m\u001b[39m'\u001b[39;49m: by,\n\u001b[0;32m    857\u001b[0m     \u001b[39m'\u001b[39;49m\u001b[39mvalue\u001b[39;49m\u001b[39m'\u001b[39;49m: value})[\u001b[39m'\u001b[39m\u001b[39mvalue\u001b[39m\u001b[39m'\u001b[39m]\n",
      "File \u001b[1;32m~\\AppData\\Local\\Packages\\PythonSoftwareFoundation.Python.3.10_qbz5n2kfra8p0\\LocalCache\\local-packages\\Python310\\site-packages\\selenium\\webdriver\\remote\\webdriver.py:428\u001b[0m, in \u001b[0;36mWebDriver.execute\u001b[1;34m(self, driver_command, params)\u001b[0m\n\u001b[0;32m    426\u001b[0m response \u001b[39m=\u001b[39m \u001b[39mself\u001b[39m\u001b[39m.\u001b[39mcommand_executor\u001b[39m.\u001b[39mexecute(driver_command, params)\n\u001b[0;32m    427\u001b[0m \u001b[39mif\u001b[39;00m response:\n\u001b[1;32m--> 428\u001b[0m     \u001b[39mself\u001b[39;49m\u001b[39m.\u001b[39;49merror_handler\u001b[39m.\u001b[39;49mcheck_response(response)\n\u001b[0;32m    429\u001b[0m     response[\u001b[39m'\u001b[39m\u001b[39mvalue\u001b[39m\u001b[39m'\u001b[39m] \u001b[39m=\u001b[39m \u001b[39mself\u001b[39m\u001b[39m.\u001b[39m_unwrap_value(\n\u001b[0;32m    430\u001b[0m         response\u001b[39m.\u001b[39mget(\u001b[39m'\u001b[39m\u001b[39mvalue\u001b[39m\u001b[39m'\u001b[39m, \u001b[39mNone\u001b[39;00m))\n\u001b[0;32m    431\u001b[0m     \u001b[39mreturn\u001b[39;00m response\n",
      "File \u001b[1;32m~\\AppData\\Local\\Packages\\PythonSoftwareFoundation.Python.3.10_qbz5n2kfra8p0\\LocalCache\\local-packages\\Python310\\site-packages\\selenium\\webdriver\\remote\\errorhandler.py:243\u001b[0m, in \u001b[0;36mErrorHandler.check_response\u001b[1;34m(self, response)\u001b[0m\n\u001b[0;32m    241\u001b[0m         alert_text \u001b[39m=\u001b[39m value[\u001b[39m'\u001b[39m\u001b[39malert\u001b[39m\u001b[39m'\u001b[39m]\u001b[39m.\u001b[39mget(\u001b[39m'\u001b[39m\u001b[39mtext\u001b[39m\u001b[39m'\u001b[39m)\n\u001b[0;32m    242\u001b[0m     \u001b[39mraise\u001b[39;00m exception_class(message, screen, stacktrace, alert_text)  \u001b[39m# type: ignore[call-arg]  # mypy is not smart enough here\u001b[39;00m\n\u001b[1;32m--> 243\u001b[0m \u001b[39mraise\u001b[39;00m exception_class(message, screen, stacktrace)\n",
      "\u001b[1;31mWebDriverException\u001b[0m: Message: chrome not reachable\n  (Session info: chrome=105.0.5195.102)\nStacktrace:\nBacktrace:\n\tOrdinal0 [0x0115DF13+2219795]\n\tOrdinal0 [0x010F2841+1779777]\n\tOrdinal0 [0x01004100+803072]\n\tOrdinal0 [0x00FF9BF2+760818]\n\tOrdinal0 [0x00FECD35+707893]\n\tOrdinal0 [0x00FF1122+725282]\n\tOrdinal0 [0x00FF5699+743065]\n\tOrdinal0 [0x01005610+808464]\n\tOrdinal0 [0x0105E93A+1173818]\n\tOrdinal0 [0x0104E616+1107478]\n\tOrdinal0 [0x01027F89+950153]\n\tOrdinal0 [0x01028F56+954198]\n\tGetHandleVerifier [0x01452CB2+3040210]\n\tGetHandleVerifier [0x01442BB4+2974420]\n\tGetHandleVerifier [0x011F6A0A+565546]\n\tGetHandleVerifier [0x011F5680+560544]\n\tOrdinal0 [0x010F9A5C+1808988]\n\tOrdinal0 [0x010FE3A8+1827752]\n\tOrdinal0 [0x010FE495+1827989]\n\tOrdinal0 [0x011080A4+1867940]\n\tBaseThreadInitThunk [0x76BD6739+25]\n\tRtlGetFullPathName_UEx [0x779590AF+1215]\n\tRtlGetFullPathName_UEx [0x7795907D+1165]\n"
     ]
    }
   ],
   "source": [
    "link = driver.find_element(By.LINK_TEXT, \"Hosted Repository\")\n",
    "link.click()"
   ]
  },
  {
   "cell_type": "code",
   "execution_count": null,
   "metadata": {},
   "outputs": [],
   "source": []
  }
 ],
 "metadata": {
  "kernelspec": {
   "display_name": "Python 3.10.7 64-bit (microsoft store)",
   "language": "python",
   "name": "python3"
  },
  "language_info": {
   "codemirror_mode": {
    "name": "ipython",
    "version": 3
   },
   "file_extension": ".py",
   "mimetype": "text/x-python",
   "name": "python",
   "nbconvert_exporter": "python",
   "pygments_lexer": "ipython3",
   "version": "3.10.7"
  },
  "orig_nbformat": 4,
  "vscode": {
   "interpreter": {
    "hash": "3828e1764bd10f1408b0f26225ac627985e148d4a1ef270c2379eefe89547715"
   }
  }
 },
 "nbformat": 4,
 "nbformat_minor": 2
}
