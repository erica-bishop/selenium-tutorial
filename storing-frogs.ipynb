{
 "cells": [
  {
   "cell_type": "code",
   "execution_count": 9,
   "metadata": {},
   "outputs": [
    {
     "name": "stderr",
     "output_type": "stream",
     "text": [
      "/var/folders/q7/j7jknlxd3s5ds0bbtnh3q5g40000gn/T/ipykernel_97868/842148088.py:10: DeprecationWarning: executable_path has been deprecated, please pass in a Service object\n",
      "  driver = webdriver.Chrome(path)\n"
     ]
    },
    {
     "name": "stdout",
     "output_type": "stream",
     "text": [
      "code has started\n"
     ]
    },
    {
     "ename": "InvalidSelectorException",
     "evalue": "Message: invalid selector: Unable to locate an element with the xpath expression [contains(\"Subtype\", \"Title\")] because of the following error:\nSyntaxError: Failed to execute 'evaluate' on 'Document': The string '[contains(\"Subtype\", \"Title\")]' is not a valid XPath expression.\n  (Session info: chrome=105.0.5195.102)\nStacktrace:\n0   chromedriver                        0x0000000104b0c149 chromedriver + 4469065\n1   chromedriver                        0x0000000104a96233 chromedriver + 3985971\n2   chromedriver                        0x000000010472cfe8 chromedriver + 409576\n3   chromedriver                        0x000000010472fed7 chromedriver + 421591\n4   chromedriver                        0x000000010472fd7f chromedriver + 421247\n5   chromedriver                        0x000000010473003c chromedriver + 421948\n6   chromedriver                        0x0000000104762fb5 chromedriver + 630709\n7   chromedriver                        0x0000000104763451 chromedriver + 631889\n8   chromedriver                        0x0000000104795931 chromedriver + 837937\n9   chromedriver                        0x0000000104780c8d chromedriver + 752781\n10  chromedriver                        0x0000000104793611 chromedriver + 828945\n11  chromedriver                        0x0000000104780b53 chromedriver + 752467\n12  chromedriver                        0x0000000104756905 chromedriver + 579845\n13  chromedriver                        0x0000000104757955 chromedriver + 584021\n14  chromedriver                        0x0000000104add6ad chromedriver + 4277933\n15  chromedriver                        0x0000000104ae1b3a chromedriver + 4295482\n16  chromedriver                        0x0000000104ae6cdf chromedriver + 4316383\n17  chromedriver                        0x0000000104ae2857 chromedriver + 4298839\n18  chromedriver                        0x0000000104abb64f chromedriver + 4138575\n19  chromedriver                        0x0000000104afd1f8 chromedriver + 4407800\n20  chromedriver                        0x0000000104afd37f chromedriver + 4408191\n21  chromedriver                        0x0000000104b13cb5 chromedriver + 4500661\n22  libsystem_pthread.dylib             0x00007ff8184a54e1 _pthread_start + 125\n23  libsystem_pthread.dylib             0x00007ff8184a0f6b thread_start + 15\n",
     "output_type": "error",
     "traceback": [
      "\u001b[0;31m---------------------------------------------------------------------------\u001b[0m",
      "\u001b[0;31mInvalidSelectorException\u001b[0m                  Traceback (most recent call last)",
      "\u001b[1;32m/Users/colleenmccamy/Documents/MEDS/selenium-repo/selenium-tutorial/storing-frogs.ipynb Cell 1\u001b[0m in \u001b[0;36m<cell line: 36>\u001b[0;34m()\u001b[0m\n\u001b[1;32m     <a href='vscode-notebook-cell:/Users/colleenmccamy/Documents/MEDS/selenium-repo/selenium-tutorial/storing-frogs.ipynb#W0sZmlsZQ%3D%3D?line=33'>34</a>\u001b[0m search \u001b[39m=\u001b[39m pd\u001b[39m.\u001b[39mDataFrame(columns \u001b[39m=\u001b[39m [\u001b[39m'\u001b[39m\u001b[39mSubtype\u001b[39m\u001b[39m'\u001b[39m, \u001b[39m'\u001b[39m\u001b[39mTitle\u001b[39m\u001b[39m'\u001b[39m])\n\u001b[1;32m     <a href='vscode-notebook-cell:/Users/colleenmccamy/Documents/MEDS/selenium-repo/selenium-tutorial/storing-frogs.ipynb#W0sZmlsZQ%3D%3D?line=34'>35</a>\u001b[0m search_details \u001b[39m=\u001b[39m []\n\u001b[0;32m---> <a href='vscode-notebook-cell:/Users/colleenmccamy/Documents/MEDS/selenium-repo/selenium-tutorial/storing-frogs.ipynb#W0sZmlsZQ%3D%3D?line=35'>36</a>\u001b[0m web_items \u001b[39m=\u001b[39m driver\u001b[39m.\u001b[39;49mfind_elements(By\u001b[39m.\u001b[39;49mXPATH, \u001b[39m'\u001b[39;49m\u001b[39m[contains(\u001b[39;49m\u001b[39m\"\u001b[39;49m\u001b[39mSubtype\u001b[39;49m\u001b[39m\"\u001b[39;49m\u001b[39m, \u001b[39;49m\u001b[39m\"\u001b[39;49m\u001b[39mTitle\u001b[39;49m\u001b[39m\"\u001b[39;49m\u001b[39m)]\u001b[39;49m\u001b[39m'\u001b[39;49m)\n\u001b[1;32m     <a href='vscode-notebook-cell:/Users/colleenmccamy/Documents/MEDS/selenium-repo/selenium-tutorial/storing-frogs.ipynb#W0sZmlsZQ%3D%3D?line=37'>38</a>\u001b[0m search_ids \u001b[39m=\u001b[39m []\n\u001b[1;32m     <a href='vscode-notebook-cell:/Users/colleenmccamy/Documents/MEDS/selenium-repo/selenium-tutorial/storing-frogs.ipynb#W0sZmlsZQ%3D%3D?line=39'>40</a>\u001b[0m \u001b[39mfor\u001b[39;00m x \u001b[39min\u001b[39;00m search_ids:\n",
      "File \u001b[0;32m~/opt/anaconda3/envs/eds-217/lib/python3.10/site-packages/selenium/webdriver/remote/webdriver.py:888\u001b[0m, in \u001b[0;36mWebDriver.find_elements\u001b[0;34m(self, by, value)\u001b[0m\n\u001b[1;32m    884\u001b[0m     value \u001b[39m=\u001b[39m \u001b[39m'\u001b[39m\u001b[39m[name=\u001b[39m\u001b[39m\"\u001b[39m\u001b[39m%s\u001b[39;00m\u001b[39m\"\u001b[39m\u001b[39m]\u001b[39m\u001b[39m'\u001b[39m \u001b[39m%\u001b[39m value\n\u001b[1;32m    886\u001b[0m \u001b[39m# Return empty list if driver returns null\u001b[39;00m\n\u001b[1;32m    887\u001b[0m \u001b[39m# See https://github.com/SeleniumHQ/selenium/issues/4555\u001b[39;00m\n\u001b[0;32m--> 888\u001b[0m \u001b[39mreturn\u001b[39;00m \u001b[39mself\u001b[39;49m\u001b[39m.\u001b[39;49mexecute(Command\u001b[39m.\u001b[39;49mFIND_ELEMENTS, {\n\u001b[1;32m    889\u001b[0m     \u001b[39m'\u001b[39;49m\u001b[39musing\u001b[39;49m\u001b[39m'\u001b[39;49m: by,\n\u001b[1;32m    890\u001b[0m     \u001b[39m'\u001b[39;49m\u001b[39mvalue\u001b[39;49m\u001b[39m'\u001b[39;49m: value})[\u001b[39m'\u001b[39m\u001b[39mvalue\u001b[39m\u001b[39m'\u001b[39m] \u001b[39mor\u001b[39;00m []\n",
      "File \u001b[0;32m~/opt/anaconda3/envs/eds-217/lib/python3.10/site-packages/selenium/webdriver/remote/webdriver.py:428\u001b[0m, in \u001b[0;36mWebDriver.execute\u001b[0;34m(self, driver_command, params)\u001b[0m\n\u001b[1;32m    426\u001b[0m response \u001b[39m=\u001b[39m \u001b[39mself\u001b[39m\u001b[39m.\u001b[39mcommand_executor\u001b[39m.\u001b[39mexecute(driver_command, params)\n\u001b[1;32m    427\u001b[0m \u001b[39mif\u001b[39;00m response:\n\u001b[0;32m--> 428\u001b[0m     \u001b[39mself\u001b[39;49m\u001b[39m.\u001b[39;49merror_handler\u001b[39m.\u001b[39;49mcheck_response(response)\n\u001b[1;32m    429\u001b[0m     response[\u001b[39m'\u001b[39m\u001b[39mvalue\u001b[39m\u001b[39m'\u001b[39m] \u001b[39m=\u001b[39m \u001b[39mself\u001b[39m\u001b[39m.\u001b[39m_unwrap_value(\n\u001b[1;32m    430\u001b[0m         response\u001b[39m.\u001b[39mget(\u001b[39m'\u001b[39m\u001b[39mvalue\u001b[39m\u001b[39m'\u001b[39m, \u001b[39mNone\u001b[39;00m))\n\u001b[1;32m    431\u001b[0m     \u001b[39mreturn\u001b[39;00m response\n",
      "File \u001b[0;32m~/opt/anaconda3/envs/eds-217/lib/python3.10/site-packages/selenium/webdriver/remote/errorhandler.py:243\u001b[0m, in \u001b[0;36mErrorHandler.check_response\u001b[0;34m(self, response)\u001b[0m\n\u001b[1;32m    241\u001b[0m         alert_text \u001b[39m=\u001b[39m value[\u001b[39m'\u001b[39m\u001b[39malert\u001b[39m\u001b[39m'\u001b[39m]\u001b[39m.\u001b[39mget(\u001b[39m'\u001b[39m\u001b[39mtext\u001b[39m\u001b[39m'\u001b[39m)\n\u001b[1;32m    242\u001b[0m     \u001b[39mraise\u001b[39;00m exception_class(message, screen, stacktrace, alert_text)  \u001b[39m# type: ignore[call-arg]  # mypy is not smart enough here\u001b[39;00m\n\u001b[0;32m--> 243\u001b[0m \u001b[39mraise\u001b[39;00m exception_class(message, screen, stacktrace)\n",
      "\u001b[0;31mInvalidSelectorException\u001b[0m: Message: invalid selector: Unable to locate an element with the xpath expression [contains(\"Subtype\", \"Title\")] because of the following error:\nSyntaxError: Failed to execute 'evaluate' on 'Document': The string '[contains(\"Subtype\", \"Title\")]' is not a valid XPath expression.\n  (Session info: chrome=105.0.5195.102)\nStacktrace:\n0   chromedriver                        0x0000000104b0c149 chromedriver + 4469065\n1   chromedriver                        0x0000000104a96233 chromedriver + 3985971\n2   chromedriver                        0x000000010472cfe8 chromedriver + 409576\n3   chromedriver                        0x000000010472fed7 chromedriver + 421591\n4   chromedriver                        0x000000010472fd7f chromedriver + 421247\n5   chromedriver                        0x000000010473003c chromedriver + 421948\n6   chromedriver                        0x0000000104762fb5 chromedriver + 630709\n7   chromedriver                        0x0000000104763451 chromedriver + 631889\n8   chromedriver                        0x0000000104795931 chromedriver + 837937\n9   chromedriver                        0x0000000104780c8d chromedriver + 752781\n10  chromedriver                        0x0000000104793611 chromedriver + 828945\n11  chromedriver                        0x0000000104780b53 chromedriver + 752467\n12  chromedriver                        0x0000000104756905 chromedriver + 579845\n13  chromedriver                        0x0000000104757955 chromedriver + 584021\n14  chromedriver                        0x0000000104add6ad chromedriver + 4277933\n15  chromedriver                        0x0000000104ae1b3a chromedriver + 4295482\n16  chromedriver                        0x0000000104ae6cdf chromedriver + 4316383\n17  chromedriver                        0x0000000104ae2857 chromedriver + 4298839\n18  chromedriver                        0x0000000104abb64f chromedriver + 4138575\n19  chromedriver                        0x0000000104afd1f8 chromedriver + 4407800\n20  chromedriver                        0x0000000104afd37f chromedriver + 4408191\n21  chromedriver                        0x0000000104b13cb5 chromedriver + 4500661\n22  libsystem_pthread.dylib             0x00007ff8184a54e1 _pthread_start + 125\n23  libsystem_pthread.dylib             0x00007ff8184a0f6b thread_start + 15\n"
     ]
    }
   ],
   "source": [
    "import selenium\n",
    "from selenium import webdriver\n",
    "from selenium.webdriver.support.wait import WebDriverWait\n",
    "import time  \n",
    "import pandas as pd\n",
    "from selenium.webdriver.common.keys import Keys  \n",
    "from selenium.webdriver.common.by import By\n",
    "# print(\"sample test case started\")  \n",
    "path = \"/Users/colleenmccamy/Documents/MEDS/selenium-repo/chromedriver\"\n",
    "driver = webdriver.Chrome(path) \n",
    "# #maximize the window size  \n",
    "# driver.maximize_window()  \n",
    "# #navigate to the url  \n",
    "# driver.get(\"https://www.usgs.gov/products/data\")  \n",
    "# #identify the Google search text box and enter the value  \n",
    "# driver.find_element(By.NAME, \"keywords\").send_keys(\"frogs\")  \n",
    "# time.sleep(5)  \n",
    "# #click on the Google search button  \n",
    "# driver.find_element(By.ID, \"edit-submit-search\").send_keys(Keys.ENTER)  \n",
    "# time.sleep(3)  \n",
    "# #close the browser  \n",
    "# driver.close()  \n",
    "# driver.quit()\n",
    "# print(\"enjoy the frogs!\")\n",
    "\n",
    "print(\"code has started\")  \n",
    "wait = WebDriverWait(driver, 20)\n",
    "url  = 'https://www.usgs.gov/products/data'\n",
    "driver.get(url)\n",
    "\n",
    "# Declaring Variables\n",
    "\n",
    "file_path = \"/Users/colleenmccamy/Documents/MEDS/selenium-repo\"\n",
    "search = pd.DataFrame(columns = ['Subtype', 'Title'])\n",
    "search_details = []\n",
    "web_iterate = driver.find_elements(By.XPATH, '//*[contains(@id, \"Title\")]')\n",
    "\n",
    "search_ids = []\n",
    "\n",
    "for x in search_ids:\n",
    "    web_subtype = driver.find_elements(By.XPATH, '//*[@id=\"edit-keywords--3\"]')\n",
    "    Subtype = web_subtype.__getattribute__('title')\n",
    "\n",
    "    web_title = driver.find_elements(By.XPATH, '//*[@id=\"block-usgs-tantalum-content\"]/div/div/div[1]/a/div/h4')\n",
    "    Title = web_title.__getattribute__('title')\n",
    "\n",
    "    search.loc[len(search)] = [Subtype, Title]\n",
    "\n",
    "#//*[@id=\"block-usgs-tantalum-content\"]/div/div/div[1]/a/span\n",
    "\n",
    "#class = \"subtype\"\n",
    "\n",
    "# search_animals = ['frogs','fish']\n",
    "\n",
    "# animals_details_lst = []\n",
    "# for i in search_animals:\n",
    "#     time.sleep(3)\n",
    "#     loop_search = wait.until(EC.visibility_of_element_located((By.NAME, \"keywords\")))\n",
    "#     loop_search.send_keys(i)\n",
    "#     time.sleep(3)\n",
    "#     wait.until(EC.element_to_be_clickable((By.ID, \"edit-submit-search\"))).click()\n",
    "#     time.sleep(3)\n",
    "#     comp = wait.until(EC.element_to_be_clickable((By.CLASS_NAME, \"link\"))).text\n",
    "#     animals_details_lst.append(comp)\n",
    "#     #print(comp)\n",
    "\n",
    "# data = {\n",
    "#          'Details': animals_details_lst\n",
    "#         }\n",
    "\n",
    "# df_animals = pd.DataFrame.from_dict(data)\n",
    "# df_animals.to_csv('output.csv', index = 0)\n",
    "# driver.close()  \n",
    "# driver.quit()\n",
    "# print(\"code has ended\")"
   ]
  },
  {
   "cell_type": "code",
   "execution_count": null,
   "metadata": {},
   "outputs": [],
   "source": []
  }
 ],
 "metadata": {
  "kernelspec": {
   "display_name": "Python 3.10.5 ('eds-217')",
   "language": "python",
   "name": "python3"
  },
  "language_info": {
   "codemirror_mode": {
    "name": "ipython",
    "version": 3
   },
   "file_extension": ".py",
   "mimetype": "text/x-python",
   "name": "python",
   "nbconvert_exporter": "python",
   "pygments_lexer": "ipython3",
   "version": "3.10.5"
  },
  "orig_nbformat": 4,
  "vscode": {
   "interpreter": {
    "hash": "887da037b427e4b99c7821a3ace74f381e75d170ea21b461a22111a111d129df"
   }
  }
 },
 "nbformat": 4,
 "nbformat_minor": 2
}
