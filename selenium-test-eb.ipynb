{
 "cells": [
  {
   "cell_type": "code",
   "execution_count": 69,
   "metadata": {},
   "outputs": [],
   "source": [
    "import selenium\n",
    "import datetime\n",
    "from datetime import date\n",
    "from selenium.webdriver.common.keys import Keys\n",
    "from selenium.webdriver.common.by import By\n",
    "from selenium.webdriver.support.ui import WebDriverWait\n",
    "from selenium.webdriver.support import expected_conditions as EC\n",
    "import os\n",
    "import time\n",
    "from selenium.webdriver.chrome.options import Options\n",
    "options = Options()\n",
    "options.headless = True\n",
    "options.add_argument(\"--window-size=1920,1200\")"
   ]
  },
  {
   "cell_type": "code",
   "execution_count": 70,
   "metadata": {},
   "outputs": [],
   "source": [
    "PATH = \"/Users/ericabishop/Documents/chromedriver\""
   ]
  },
  {
   "cell_type": "code",
   "execution_count": 71,
   "metadata": {},
   "outputs": [
    {
     "name": "stderr",
     "output_type": "stream",
     "text": [
      "/var/folders/xw/vmjqkkh17hd0dzy_8gd67mf80000gn/T/ipykernel_29828/2920692135.py:2: DeprecationWarning: executable_path has been deprecated, please pass in a Service object\n",
      "  driver = webdriver.Chrome(PATH)\n"
     ]
    }
   ],
   "source": [
    "from selenium import webdriver\n",
    "driver = webdriver.Chrome(PATH)"
   ]
  },
  {
   "cell_type": "code",
   "execution_count": 35,
   "metadata": {},
   "outputs": [],
   "source": [
    "# driver.get(\"https://climatebase.org/jobs?l=&q=&p=1&remote=false\")"
   ]
  },
  {
   "cell_type": "markdown",
   "metadata": {},
   "source": [
    "Example use case: automating your environmental data science job search\n",
    "inspiration from: https://medium.com/analytics-vidhya/web-scraping-using-selenium-for-a-job-portal-37d0b454fb52"
   ]
  },
  {
   "cell_type": "code",
   "execution_count": 43,
   "metadata": {},
   "outputs": [
    {
     "name": "stdout",
     "output_type": "stream",
     "text": [
      "/Users/ericabishop/Documents/MEDS class materials/selenium-tutorial/job_portal_analysis2022-09-08.csv\n"
     ]
    },
    {
     "ename": "FileExistsError",
     "evalue": "[Errno 17] File exists: '/Users/ericabishop/Documents/MEDS class materials/selenium-tutorial/job_portal_analysis2022-09-08.csv'",
     "output_type": "error",
     "traceback": [
      "\u001b[0;31m---------------------------------------------------------------------------\u001b[0m",
      "\u001b[0;31mFileExistsError\u001b[0m                           Traceback (most recent call last)",
      "\u001b[1;32m/Users/ericabishop/Documents/MEDS class materials/selenium-tutorial/selenium-test-eb.ipynb Cell 6\u001b[0m in \u001b[0;36m<cell line: 8>\u001b[0;34m()\u001b[0m\n\u001b[1;32m      <a href='vscode-notebook-cell:/Users/ericabishop/Documents/MEDS%20class%20materials/selenium-tutorial/selenium-test-eb.ipynb#X10sZmlsZQ%3D%3D?line=5'>6</a>\u001b[0m raw_csv_file \u001b[39m=\u001b[39m os\u001b[39m.\u001b[39mgetcwd()\u001b[39m+\u001b[39m\u001b[39m\"\u001b[39m\u001b[39m/job_portal_analysis\u001b[39m\u001b[39m\"\u001b[39m\u001b[39m+\u001b[39m\u001b[39mstr\u001b[39m(dateTimeobj)\u001b[39m+\u001b[39m\u001b[39m\"\u001b[39m\u001b[39m.csv\u001b[39m\u001b[39m\"\u001b[39m\n\u001b[1;32m      <a href='vscode-notebook-cell:/Users/ericabishop/Documents/MEDS%20class%20materials/selenium-tutorial/selenium-test-eb.ipynb#X10sZmlsZQ%3D%3D?line=6'>7</a>\u001b[0m \u001b[39mprint\u001b[39m(raw_csv_file)\n\u001b[0;32m----> <a href='vscode-notebook-cell:/Users/ericabishop/Documents/MEDS%20class%20materials/selenium-tutorial/selenium-test-eb.ipynb#X10sZmlsZQ%3D%3D?line=7'>8</a>\u001b[0m data_file \u001b[39m=\u001b[39m \u001b[39mopen\u001b[39;49m(raw_csv_file,\u001b[39m'\u001b[39;49m\u001b[39mx\u001b[39;49m\u001b[39m'\u001b[39;49m)\n",
      "\u001b[0;31mFileExistsError\u001b[0m: [Errno 17] File exists: '/Users/ericabishop/Documents/MEDS class materials/selenium-tutorial/job_portal_analysis2022-09-08.csv'"
     ]
    }
   ],
   "source": [
    "#create variables for empty files and companies\n",
    "global raw_csv_file\n",
    "dateTimeobj = date.today()\n",
    "\n",
    "#Raw data will be sotred in the following file\n",
    "raw_csv_file = os.getcwd()+\"/job_portal_analysis\"+str(dateTimeobj)+\".csv\"\n",
    "print(raw_csv_file)\n",
    "data_file = open(raw_csv_file,'x')\n"
   ]
  },
  {
   "cell_type": "code",
   "execution_count": 38,
   "metadata": {},
   "outputs": [
    {
     "name": "stdout",
     "output_type": "stream",
     "text": [
      "['https://climatebase.org/jobs']\n"
     ]
    }
   ],
   "source": [
    "\n",
    "#based on below keyworkds, search Climatebase.org (picking a site without password complications)\n",
    "# keywords = [\"Data Science\"]\n",
    "# page_count = 50\n",
    "\n",
    "# #get actual URLS with a list comprehension from the lsit created above\n",
    "# company_pages = [\"https://climatebase.org/jobs\" for keyword in keywords]\n",
    "# print(company_pages)"
   ]
  },
  {
   "cell_type": "code",
   "execution_count": 73,
   "metadata": {},
   "outputs": [],
   "source": [
    "#try Tim's tutorial for accessing and printing elements\n",
    "driver.get(\"https://www.dataone.org/\")\n",
    "# print(driver.title)\n",
    "\n",
    "#now access the search bar by class\n",
    "search = driver.find_element(By.ID, \"search-term\")\n",
    "search.send_keys(\"pisaster ochraceus\")\n",
    "search.send_keys(Keys.RETURN)\n",
    "\n",
    "# now try what Tim tried to what for search to be accessed to return list of articles\n",
    "# try:\n",
    "#     results = WebDriverWait(driver, 10).until(\n",
    "#         EC.presence_of_element_located((By.ID, \"results\"))\n",
    "#     )\n",
    "\n",
    "#     papers = results.find_elements(By.TAG_NAME, \"cite\")\n",
    "#     for paper in papers:\n",
    "#         title = papers.find_elements(By.CLASS_NAME, \"title\")\n",
    "#         print(title)\n",
    "# finally:\n",
    "#     driver.fullscreen_window()\n",
    "\n",
    "#Or try searching with an Xpath instead of an element to get search results that contain dois\n",
    "try:\n",
    "    results = WebDriverWait(driver, 10).until(\n",
    "        EC.presence_of_element_located((By.ID, \"results\"))\n",
    "    )\n",
    "\n",
    "    papers = results.find_elements(By.TAG_NAME, \"cite\")\n",
    "    for paper in papers:\n",
    "        title = papers.find_elements(By.CLASS_NAME, \"title\")\n",
    "        print(title)\n",
    "finally:\n",
    "    driver.fullscreen_window()\n",
    "\n"
   ]
  },
  {
   "cell_type": "code",
   "execution_count": null,
   "metadata": {},
   "outputs": [],
   "source": []
  }
 ],
 "metadata": {
  "kernelspec": {
   "display_name": "Python 3.10.5 ('eds-217')",
   "language": "python",
   "name": "python3"
  },
  "language_info": {
   "codemirror_mode": {
    "name": "ipython",
    "version": 3
   },
   "file_extension": ".py",
   "mimetype": "text/x-python",
   "name": "python",
   "nbconvert_exporter": "python",
   "pygments_lexer": "ipython3",
   "version": "3.10.5"
  },
  "orig_nbformat": 4,
  "vscode": {
   "interpreter": {
    "hash": "477af6cd1d51814771407b700a15141f197761cd17758f872ce5e89f60648a59"
   }
  }
 },
 "nbformat": 4,
 "nbformat_minor": 2
}
