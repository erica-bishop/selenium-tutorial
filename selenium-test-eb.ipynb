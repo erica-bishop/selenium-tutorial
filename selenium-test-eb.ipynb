{
 "cells": [
  {
   "cell_type": "code",
   "execution_count": 26,
   "metadata": {},
   "outputs": [],
   "source": [
    "import selenium\n",
    "import datetime\n",
    "from datetime import date\n",
    "import os\n",
    "from selenium.webdriver.chrome.options import Options\n",
    "options = Options()\n",
    "options.headless = True\n",
    "options.add_argument(\"--window-size=1920,1200\")"
   ]
  },
  {
   "cell_type": "code",
   "execution_count": 21,
   "metadata": {},
   "outputs": [],
   "source": [
    "PATH = \"/Users/ericabishop/Documents/chromedriver\""
   ]
  },
  {
   "cell_type": "code",
   "execution_count": 28,
   "metadata": {},
   "outputs": [
    {
     "name": "stderr",
     "output_type": "stream",
     "text": [
      "/var/folders/xw/vmjqkkh17hd0dzy_8gd67mf80000gn/T/ipykernel_29828/2920692135.py:2: DeprecationWarning: executable_path has been deprecated, please pass in a Service object\n",
      "  driver = webdriver.Chrome(PATH)\n"
     ]
    }
   ],
   "source": [
    "from selenium import webdriver\n",
    "driver = webdriver.Chrome(PATH)"
   ]
  },
  {
   "cell_type": "code",
   "execution_count": 30,
   "metadata": {},
   "outputs": [],
   "source": [
    "driver.get(\"https://climatebase.org/jobs?l=&q=&p=1&remote=false\")"
   ]
  },
  {
   "cell_type": "markdown",
   "metadata": {},
   "source": [
    "Example use case: automating your environmental data science job search\n",
    "inspiration from: https://medium.com/analytics-vidhya/web-scraping-using-selenium-for-a-job-portal-37d0b454fb52"
   ]
  },
  {
   "cell_type": "code",
   "execution_count": 31,
   "metadata": {},
   "outputs": [
    {
     "name": "stdout",
     "output_type": "stream",
     "text": [
      "/Users/ericabishop/Documents/MEDS class materials/selenium-tutorial/job_portal_analysis2022-09-08.csv\n",
      "['https://climatebase.org/jobs']\n"
     ]
    }
   ],
   "source": [
    "#create variables for empty files and companies\n",
    "global raw_csv_file\n",
    "dateTimeobj = date.today()\n",
    "\n",
    "#Raw data will be sotred in the following file\n",
    "raw_csv_file = os.getcwd()+\"/job_portal_analysis\"+str(dateTimeobj)+\".csv\"\n",
    "print(raw_csv_file)\n",
    "\n",
    "#based on below keyworkds, search Climatebase.org (picking a site without password complications)\n",
    "keywords = [\"Data Science\"]\n",
    "page_count = 50\n",
    "\n",
    "#get actual URLS with a list comprehension from the lsit created above\n",
    "company_pages = [\"https://climatebase.org/jobs\" for keyword in keywords]\n",
    "print(company_pages)"
   ]
  },
  {
   "cell_type": "code",
   "execution_count": null,
   "metadata": {},
   "outputs": [],
   "source": []
  }
 ],
 "metadata": {
  "kernelspec": {
   "display_name": "Python 3.10.7 64-bit (microsoft store)",
   "language": "python",
   "name": "python3"
  },
  "language_info": {
   "codemirror_mode": {
    "name": "ipython",
    "version": 3
   },
   "file_extension": ".py",
   "mimetype": "text/x-python",
   "name": "python",
   "nbconvert_exporter": "python",
   "pygments_lexer": "ipython3",
   "version": "3.10.7"
  },
  "orig_nbformat": 4,
  "vscode": {
   "interpreter": {
    "hash": "3828e1764bd10f1408b0f26225ac627985e148d4a1ef270c2379eefe89547715"
   }
  }
 },
 "nbformat": 4,
 "nbformat_minor": 2
}
