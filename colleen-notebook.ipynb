{
 "cells": [
  {
   "cell_type": "code",
   "execution_count": 1,
   "metadata": {},
   "outputs": [],
   "source": [
    "import selenium\n",
    "from selenium import webdriver\n",
    "from selenium.webdriver.common.keys import Keys\n",
    "from selenium.webdriver.common.by import By\n",
    "from selenium.webdriver.support.ui import WebDriverWait\n",
    "from selenium.webdriver.support import expected_conditions as EC"
   ]
  },
  {
   "cell_type": "code",
   "execution_count": 2,
   "metadata": {},
   "outputs": [
    {
     "name": "stderr",
     "output_type": "stream",
     "text": [
      "/var/folders/q7/j7jknlxd3s5ds0bbtnh3q5g40000gn/T/ipykernel_96360/2826147827.py:2: DeprecationWarning: executable_path has been deprecated, please pass in a Service object\n",
      "  driver = webdriver.Chrome(path)\n"
     ]
    }
   ],
   "source": [
    "path = \"/Users/colleenmccamy/Documents/MEDS/selenium-repo/chromedriver\"\n",
    "driver = webdriver.Chrome(path)\n",
    "from unicodedata import name\n",
    "from selenium.webdriver.chrome.options import Options\n"
   ]
  },
  {
   "cell_type": "code",
   "execution_count": 3,
   "metadata": {},
   "outputs": [
    {
     "ename": "NoSuchWindowException",
     "evalue": "Message: no such window: window was already closed\n  (Session info: chrome=105.0.5195.102)\nStacktrace:\n0   chromedriver                        0x00000001024b3149 chromedriver + 4469065\n1   chromedriver                        0x000000010243d233 chromedriver + 3985971\n2   chromedriver                        0x00000001020d3fe8 chromedriver + 409576\n3   chromedriver                        0x00000001020b663d chromedriver + 288317\n4   chromedriver                        0x00000001020ba652 chromedriver + 304722\n5   chromedriver                        0x00000001020bf56c chromedriver + 324972\n6   chromedriver                        0x00000001020d5412 chromedriver + 414738\n7   chromedriver                        0x0000000102139ccb chromedriver + 826571\n8   chromedriver                        0x0000000102127b53 chromedriver + 752467\n9   chromedriver                        0x00000001020fd905 chromedriver + 579845\n10  chromedriver                        0x00000001020fe955 chromedriver + 584021\n11  chromedriver                        0x00000001024846ad chromedriver + 4277933\n12  chromedriver                        0x0000000102488b3a chromedriver + 4295482\n13  chromedriver                        0x000000010248dcdf chromedriver + 4316383\n14  chromedriver                        0x0000000102489857 chromedriver + 4298839\n15  chromedriver                        0x000000010246264f chromedriver + 4138575\n16  chromedriver                        0x00000001024a41f8 chromedriver + 4407800\n17  chromedriver                        0x00000001024a437f chromedriver + 4408191\n18  chromedriver                        0x00000001024bacb5 chromedriver + 4500661\n19  libsystem_pthread.dylib             0x00007ff8184a54e1 _pthread_start + 125\n20  libsystem_pthread.dylib             0x00007ff8184a0f6b thread_start + 15\n",
     "output_type": "error",
     "traceback": [
      "\u001b[0;31m---------------------------------------------------------------------------\u001b[0m",
      "\u001b[0;31mNoSuchWindowException\u001b[0m                     Traceback (most recent call last)",
      "\u001b[1;32m/Users/colleenmccamy/Documents/MEDS/selenium-repo/selenium-tutorial/colleen-notebook.ipynb Cell 3\u001b[0m in \u001b[0;36m<cell line: 2>\u001b[0;34m()\u001b[0m\n\u001b[1;32m      <a href='vscode-notebook-cell:/Users/colleenmccamy/Documents/MEDS/selenium-repo/selenium-tutorial/colleen-notebook.ipynb#W6sZmlsZQ%3D%3D?line=0'>1</a>\u001b[0m \u001b[39m#try Tim's tutorial for accessing and printing elements\u001b[39;00m\n\u001b[0;32m----> <a href='vscode-notebook-cell:/Users/colleenmccamy/Documents/MEDS/selenium-repo/selenium-tutorial/colleen-notebook.ipynb#W6sZmlsZQ%3D%3D?line=1'>2</a>\u001b[0m driver\u001b[39m.\u001b[39;49mget(\u001b[39m\"\u001b[39;49m\u001b[39mhttps://www.dataone.org/\u001b[39;49m\u001b[39m\"\u001b[39;49m)\n\u001b[1;32m      <a href='vscode-notebook-cell:/Users/colleenmccamy/Documents/MEDS/selenium-repo/selenium-tutorial/colleen-notebook.ipynb#W6sZmlsZQ%3D%3D?line=2'>3</a>\u001b[0m \u001b[39mprint\u001b[39m(driver\u001b[39m.\u001b[39mtitle)\n\u001b[1;32m      <a href='vscode-notebook-cell:/Users/colleenmccamy/Documents/MEDS/selenium-repo/selenium-tutorial/colleen-notebook.ipynb#W6sZmlsZQ%3D%3D?line=4'>5</a>\u001b[0m \u001b[39m#now access the search bar by class\u001b[39;00m\n",
      "File \u001b[0;32m~/opt/anaconda3/envs/eds-217/lib/python3.10/site-packages/selenium/webdriver/remote/webdriver.py:440\u001b[0m, in \u001b[0;36mWebDriver.get\u001b[0;34m(self, url)\u001b[0m\n\u001b[1;32m    436\u001b[0m \u001b[39mdef\u001b[39;00m \u001b[39mget\u001b[39m(\u001b[39mself\u001b[39m, url: \u001b[39mstr\u001b[39m) \u001b[39m-\u001b[39m\u001b[39m>\u001b[39m \u001b[39mNone\u001b[39;00m:\n\u001b[1;32m    437\u001b[0m     \u001b[39m\"\"\"\u001b[39;00m\n\u001b[1;32m    438\u001b[0m \u001b[39m    Loads a web page in the current browser session.\u001b[39;00m\n\u001b[1;32m    439\u001b[0m \u001b[39m    \"\"\"\u001b[39;00m\n\u001b[0;32m--> 440\u001b[0m     \u001b[39mself\u001b[39;49m\u001b[39m.\u001b[39;49mexecute(Command\u001b[39m.\u001b[39;49mGET, {\u001b[39m'\u001b[39;49m\u001b[39murl\u001b[39;49m\u001b[39m'\u001b[39;49m: url})\n",
      "File \u001b[0;32m~/opt/anaconda3/envs/eds-217/lib/python3.10/site-packages/selenium/webdriver/remote/webdriver.py:428\u001b[0m, in \u001b[0;36mWebDriver.execute\u001b[0;34m(self, driver_command, params)\u001b[0m\n\u001b[1;32m    426\u001b[0m response \u001b[39m=\u001b[39m \u001b[39mself\u001b[39m\u001b[39m.\u001b[39mcommand_executor\u001b[39m.\u001b[39mexecute(driver_command, params)\n\u001b[1;32m    427\u001b[0m \u001b[39mif\u001b[39;00m response:\n\u001b[0;32m--> 428\u001b[0m     \u001b[39mself\u001b[39;49m\u001b[39m.\u001b[39;49merror_handler\u001b[39m.\u001b[39;49mcheck_response(response)\n\u001b[1;32m    429\u001b[0m     response[\u001b[39m'\u001b[39m\u001b[39mvalue\u001b[39m\u001b[39m'\u001b[39m] \u001b[39m=\u001b[39m \u001b[39mself\u001b[39m\u001b[39m.\u001b[39m_unwrap_value(\n\u001b[1;32m    430\u001b[0m         response\u001b[39m.\u001b[39mget(\u001b[39m'\u001b[39m\u001b[39mvalue\u001b[39m\u001b[39m'\u001b[39m, \u001b[39mNone\u001b[39;00m))\n\u001b[1;32m    431\u001b[0m     \u001b[39mreturn\u001b[39;00m response\n",
      "File \u001b[0;32m~/opt/anaconda3/envs/eds-217/lib/python3.10/site-packages/selenium/webdriver/remote/errorhandler.py:243\u001b[0m, in \u001b[0;36mErrorHandler.check_response\u001b[0;34m(self, response)\u001b[0m\n\u001b[1;32m    241\u001b[0m         alert_text \u001b[39m=\u001b[39m value[\u001b[39m'\u001b[39m\u001b[39malert\u001b[39m\u001b[39m'\u001b[39m]\u001b[39m.\u001b[39mget(\u001b[39m'\u001b[39m\u001b[39mtext\u001b[39m\u001b[39m'\u001b[39m)\n\u001b[1;32m    242\u001b[0m     \u001b[39mraise\u001b[39;00m exception_class(message, screen, stacktrace, alert_text)  \u001b[39m# type: ignore[call-arg]  # mypy is not smart enough here\u001b[39;00m\n\u001b[0;32m--> 243\u001b[0m \u001b[39mraise\u001b[39;00m exception_class(message, screen, stacktrace)\n",
      "\u001b[0;31mNoSuchWindowException\u001b[0m: Message: no such window: window was already closed\n  (Session info: chrome=105.0.5195.102)\nStacktrace:\n0   chromedriver                        0x00000001024b3149 chromedriver + 4469065\n1   chromedriver                        0x000000010243d233 chromedriver + 3985971\n2   chromedriver                        0x00000001020d3fe8 chromedriver + 409576\n3   chromedriver                        0x00000001020b663d chromedriver + 288317\n4   chromedriver                        0x00000001020ba652 chromedriver + 304722\n5   chromedriver                        0x00000001020bf56c chromedriver + 324972\n6   chromedriver                        0x00000001020d5412 chromedriver + 414738\n7   chromedriver                        0x0000000102139ccb chromedriver + 826571\n8   chromedriver                        0x0000000102127b53 chromedriver + 752467\n9   chromedriver                        0x00000001020fd905 chromedriver + 579845\n10  chromedriver                        0x00000001020fe955 chromedriver + 584021\n11  chromedriver                        0x00000001024846ad chromedriver + 4277933\n12  chromedriver                        0x0000000102488b3a chromedriver + 4295482\n13  chromedriver                        0x000000010248dcdf chromedriver + 4316383\n14  chromedriver                        0x0000000102489857 chromedriver + 4298839\n15  chromedriver                        0x000000010246264f chromedriver + 4138575\n16  chromedriver                        0x00000001024a41f8 chromedriver + 4407800\n17  chromedriver                        0x00000001024a437f chromedriver + 4408191\n18  chromedriver                        0x00000001024bacb5 chromedriver + 4500661\n19  libsystem_pthread.dylib             0x00007ff8184a54e1 _pthread_start + 125\n20  libsystem_pthread.dylib             0x00007ff8184a0f6b thread_start + 15\n"
     ]
    }
   ],
   "source": [
    "#try Tim's tutorial for accessing and printing elements\n",
    "driver.get(\"https://www.dataone.org/\")\n",
    "print(driver.title)\n",
    "\n",
    "#now access the search bar by class\n",
    "search = driver.find_element(By.ID, \"search-term\")\n",
    "search.send_keys(\"pisaster ochraceus\")\n",
    "search.send_keys(Keys.RETURN)"
   ]
  },
  {
   "cell_type": "code",
   "execution_count": 5,
   "metadata": {},
   "outputs": [
    {
     "ename": "NoSuchWindowException",
     "evalue": "Message: no such window: window was already closed\n  (Session info: chrome=105.0.5195.102)\nStacktrace:\n0   chromedriver                        0x00000001024b3149 chromedriver + 4469065\n1   chromedriver                        0x000000010243d233 chromedriver + 3985971\n2   chromedriver                        0x00000001020d3fe8 chromedriver + 409576\n3   chromedriver                        0x00000001020b663d chromedriver + 288317\n4   chromedriver                        0x00000001020ba652 chromedriver + 304722\n5   chromedriver                        0x00000001020bf56c chromedriver + 324972\n6   chromedriver                        0x00000001020d5412 chromedriver + 414738\n7   chromedriver                        0x0000000102139ccb chromedriver + 826571\n8   chromedriver                        0x0000000102127b53 chromedriver + 752467\n9   chromedriver                        0x00000001020fd905 chromedriver + 579845\n10  chromedriver                        0x00000001020fe955 chromedriver + 584021\n11  chromedriver                        0x00000001024846ad chromedriver + 4277933\n12  chromedriver                        0x0000000102488b3a chromedriver + 4295482\n13  chromedriver                        0x000000010248dcdf chromedriver + 4316383\n14  chromedriver                        0x0000000102489857 chromedriver + 4298839\n15  chromedriver                        0x000000010246264f chromedriver + 4138575\n16  chromedriver                        0x00000001024a41f8 chromedriver + 4407800\n17  chromedriver                        0x00000001024a437f chromedriver + 4408191\n18  chromedriver                        0x00000001024bacb5 chromedriver + 4500661\n19  libsystem_pthread.dylib             0x00007ff8184a54e1 _pthread_start + 125\n20  libsystem_pthread.dylib             0x00007ff8184a0f6b thread_start + 15\n",
     "output_type": "error",
     "traceback": [
      "\u001b[0;31m---------------------------------------------------------------------------\u001b[0m",
      "\u001b[0;31mNoSuchWindowException\u001b[0m                     Traceback (most recent call last)",
      "\u001b[1;32m/Users/colleenmccamy/Documents/MEDS/selenium-repo/selenium-tutorial/colleen-notebook.ipynb Cell 4\u001b[0m in \u001b[0;36m<cell line: 3>\u001b[0;34m()\u001b[0m\n\u001b[1;32m      <a href='vscode-notebook-cell:/Users/colleenmccamy/Documents/MEDS/selenium-repo/selenium-tutorial/colleen-notebook.ipynb#W5sZmlsZQ%3D%3D?line=0'>1</a>\u001b[0m \u001b[39m# Defining Variables\u001b[39;00m\n\u001b[1;32m      <a href='vscode-notebook-cell:/Users/colleenmccamy/Documents/MEDS/selenium-repo/selenium-tutorial/colleen-notebook.ipynb#W5sZmlsZQ%3D%3D?line=1'>2</a>\u001b[0m search_query \u001b[39m=\u001b[39m (\u001b[39m'\u001b[39m\u001b[39mhttps://www.usgs.gov/search?keywords=frogs\u001b[39m\u001b[39m'\u001b[39m)\n\u001b[0;32m----> <a href='vscode-notebook-cell:/Users/colleenmccamy/Documents/MEDS/selenium-repo/selenium-tutorial/colleen-notebook.ipynb#W5sZmlsZQ%3D%3D?line=2'>3</a>\u001b[0m driver\u001b[39m.\u001b[39;49mget(search_query)\n",
      "File \u001b[0;32m~/opt/anaconda3/envs/eds-217/lib/python3.10/site-packages/selenium/webdriver/remote/webdriver.py:440\u001b[0m, in \u001b[0;36mWebDriver.get\u001b[0;34m(self, url)\u001b[0m\n\u001b[1;32m    436\u001b[0m \u001b[39mdef\u001b[39;00m \u001b[39mget\u001b[39m(\u001b[39mself\u001b[39m, url: \u001b[39mstr\u001b[39m) \u001b[39m-\u001b[39m\u001b[39m>\u001b[39m \u001b[39mNone\u001b[39;00m:\n\u001b[1;32m    437\u001b[0m     \u001b[39m\"\"\"\u001b[39;00m\n\u001b[1;32m    438\u001b[0m \u001b[39m    Loads a web page in the current browser session.\u001b[39;00m\n\u001b[1;32m    439\u001b[0m \u001b[39m    \"\"\"\u001b[39;00m\n\u001b[0;32m--> 440\u001b[0m     \u001b[39mself\u001b[39;49m\u001b[39m.\u001b[39;49mexecute(Command\u001b[39m.\u001b[39;49mGET, {\u001b[39m'\u001b[39;49m\u001b[39murl\u001b[39;49m\u001b[39m'\u001b[39;49m: url})\n",
      "File \u001b[0;32m~/opt/anaconda3/envs/eds-217/lib/python3.10/site-packages/selenium/webdriver/remote/webdriver.py:428\u001b[0m, in \u001b[0;36mWebDriver.execute\u001b[0;34m(self, driver_command, params)\u001b[0m\n\u001b[1;32m    426\u001b[0m response \u001b[39m=\u001b[39m \u001b[39mself\u001b[39m\u001b[39m.\u001b[39mcommand_executor\u001b[39m.\u001b[39mexecute(driver_command, params)\n\u001b[1;32m    427\u001b[0m \u001b[39mif\u001b[39;00m response:\n\u001b[0;32m--> 428\u001b[0m     \u001b[39mself\u001b[39;49m\u001b[39m.\u001b[39;49merror_handler\u001b[39m.\u001b[39;49mcheck_response(response)\n\u001b[1;32m    429\u001b[0m     response[\u001b[39m'\u001b[39m\u001b[39mvalue\u001b[39m\u001b[39m'\u001b[39m] \u001b[39m=\u001b[39m \u001b[39mself\u001b[39m\u001b[39m.\u001b[39m_unwrap_value(\n\u001b[1;32m    430\u001b[0m         response\u001b[39m.\u001b[39mget(\u001b[39m'\u001b[39m\u001b[39mvalue\u001b[39m\u001b[39m'\u001b[39m, \u001b[39mNone\u001b[39;00m))\n\u001b[1;32m    431\u001b[0m     \u001b[39mreturn\u001b[39;00m response\n",
      "File \u001b[0;32m~/opt/anaconda3/envs/eds-217/lib/python3.10/site-packages/selenium/webdriver/remote/errorhandler.py:243\u001b[0m, in \u001b[0;36mErrorHandler.check_response\u001b[0;34m(self, response)\u001b[0m\n\u001b[1;32m    241\u001b[0m         alert_text \u001b[39m=\u001b[39m value[\u001b[39m'\u001b[39m\u001b[39malert\u001b[39m\u001b[39m'\u001b[39m]\u001b[39m.\u001b[39mget(\u001b[39m'\u001b[39m\u001b[39mtext\u001b[39m\u001b[39m'\u001b[39m)\n\u001b[1;32m    242\u001b[0m     \u001b[39mraise\u001b[39;00m exception_class(message, screen, stacktrace, alert_text)  \u001b[39m# type: ignore[call-arg]  # mypy is not smart enough here\u001b[39;00m\n\u001b[0;32m--> 243\u001b[0m \u001b[39mraise\u001b[39;00m exception_class(message, screen, stacktrace)\n",
      "\u001b[0;31mNoSuchWindowException\u001b[0m: Message: no such window: window was already closed\n  (Session info: chrome=105.0.5195.102)\nStacktrace:\n0   chromedriver                        0x00000001024b3149 chromedriver + 4469065\n1   chromedriver                        0x000000010243d233 chromedriver + 3985971\n2   chromedriver                        0x00000001020d3fe8 chromedriver + 409576\n3   chromedriver                        0x00000001020b663d chromedriver + 288317\n4   chromedriver                        0x00000001020ba652 chromedriver + 304722\n5   chromedriver                        0x00000001020bf56c chromedriver + 324972\n6   chromedriver                        0x00000001020d5412 chromedriver + 414738\n7   chromedriver                        0x0000000102139ccb chromedriver + 826571\n8   chromedriver                        0x0000000102127b53 chromedriver + 752467\n9   chromedriver                        0x00000001020fd905 chromedriver + 579845\n10  chromedriver                        0x00000001020fe955 chromedriver + 584021\n11  chromedriver                        0x00000001024846ad chromedriver + 4277933\n12  chromedriver                        0x0000000102488b3a chromedriver + 4295482\n13  chromedriver                        0x000000010248dcdf chromedriver + 4316383\n14  chromedriver                        0x0000000102489857 chromedriver + 4298839\n15  chromedriver                        0x000000010246264f chromedriver + 4138575\n16  chromedriver                        0x00000001024a41f8 chromedriver + 4407800\n17  chromedriver                        0x00000001024a437f chromedriver + 4408191\n18  chromedriver                        0x00000001024bacb5 chromedriver + 4500661\n19  libsystem_pthread.dylib             0x00007ff8184a54e1 _pthread_start + 125\n20  libsystem_pthread.dylib             0x00007ff8184a0f6b thread_start + 15\n"
     ]
    }
   ],
   "source": [
    "# Defining Variables\n",
    "search_query = ('https://www.usgs.gov/search?keywords=frogs')\n",
    "driver.get(search_query)\n",
    "\n",
    "#time.sleep(5)\n",
    "#job_list = driver.find_elements(By.ID, \"main-content\")\n"
   ]
  },
  {
   "cell_type": "code",
   "execution_count": 4,
   "metadata": {},
   "outputs": [
    {
     "ename": "NoSuchWindowException",
     "evalue": "Message: no such window: window was already closed\n  (Session info: chrome=105.0.5195.102)\nStacktrace:\n0   chromedriver                        0x00000001024b3149 chromedriver + 4469065\n1   chromedriver                        0x000000010243d233 chromedriver + 3985971\n2   chromedriver                        0x00000001020d3fe8 chromedriver + 409576\n3   chromedriver                        0x00000001020b663d chromedriver + 288317\n4   chromedriver                        0x00000001020ba652 chromedriver + 304722\n5   chromedriver                        0x00000001020bf56c chromedriver + 324972\n6   chromedriver                        0x00000001020d5412 chromedriver + 414738\n7   chromedriver                        0x0000000102139ccb chromedriver + 826571\n8   chromedriver                        0x0000000102127b53 chromedriver + 752467\n9   chromedriver                        0x00000001020fd905 chromedriver + 579845\n10  chromedriver                        0x00000001020fe955 chromedriver + 584021\n11  chromedriver                        0x00000001024846ad chromedriver + 4277933\n12  chromedriver                        0x0000000102488b3a chromedriver + 4295482\n13  chromedriver                        0x000000010248dcdf chromedriver + 4316383\n14  chromedriver                        0x0000000102489857 chromedriver + 4298839\n15  chromedriver                        0x000000010246264f chromedriver + 4138575\n16  chromedriver                        0x00000001024a41f8 chromedriver + 4407800\n17  chromedriver                        0x00000001024a437f chromedriver + 4408191\n18  chromedriver                        0x00000001024bacb5 chromedriver + 4500661\n19  libsystem_pthread.dylib             0x00007ff8184a54e1 _pthread_start + 125\n20  libsystem_pthread.dylib             0x00007ff8184a0f6b thread_start + 15\n",
     "output_type": "error",
     "traceback": [
      "\u001b[0;31m---------------------------------------------------------------------------\u001b[0m",
      "\u001b[0;31mNoSuchWindowException\u001b[0m                     Traceback (most recent call last)",
      "\u001b[1;32m/Users/colleenmccamy/Documents/MEDS/selenium-repo/selenium-tutorial/colleen-notebook.ipynb Cell 5\u001b[0m in \u001b[0;36m<cell line: 8>\u001b[0;34m()\u001b[0m\n\u001b[1;32m      <a href='vscode-notebook-cell:/Users/colleenmccamy/Documents/MEDS/selenium-repo/selenium-tutorial/colleen-notebook.ipynb#W4sZmlsZQ%3D%3D?line=0'>1</a>\u001b[0m \u001b[39m#options = Options()\u001b[39;00m\n\u001b[1;32m      <a href='vscode-notebook-cell:/Users/colleenmccamy/Documents/MEDS/selenium-repo/selenium-tutorial/colleen-notebook.ipynb#W4sZmlsZQ%3D%3D?line=1'>2</a>\u001b[0m \u001b[39m#options.headless = True\u001b[39;00m\n\u001b[1;32m      <a href='vscode-notebook-cell:/Users/colleenmccamy/Documents/MEDS/selenium-repo/selenium-tutorial/colleen-notebook.ipynb#W4sZmlsZQ%3D%3D?line=2'>3</a>\u001b[0m \u001b[39m#options.add_argument(\"--window-size=1920,1200\")\u001b[39;00m\n\u001b[1;32m      <a href='vscode-notebook-cell:/Users/colleenmccamy/Documents/MEDS/selenium-repo/selenium-tutorial/colleen-notebook.ipynb#W4sZmlsZQ%3D%3D?line=3'>4</a>\u001b[0m \n\u001b[1;32m      <a href='vscode-notebook-cell:/Users/colleenmccamy/Documents/MEDS/selenium-repo/selenium-tutorial/colleen-notebook.ipynb#W4sZmlsZQ%3D%3D?line=4'>5</a>\u001b[0m \u001b[39m#driver = webdriver.Chrome(options=options, executable_path=path)\u001b[39;00m\n\u001b[0;32m----> <a href='vscode-notebook-cell:/Users/colleenmccamy/Documents/MEDS/selenium-repo/selenium-tutorial/colleen-notebook.ipynb#W4sZmlsZQ%3D%3D?line=7'>8</a>\u001b[0m driver\u001b[39m.\u001b[39;49mget(\u001b[39m\"\u001b[39;49m\u001b[39mhttps://www.sciencebase.gov/catalog/item/62fab44bd34e25bd09287e9d\u001b[39;49m\u001b[39m\"\u001b[39;49m)\n\u001b[1;32m      <a href='vscode-notebook-cell:/Users/colleenmccamy/Documents/MEDS/selenium-repo/selenium-tutorial/colleen-notebook.ipynb#W4sZmlsZQ%3D%3D?line=8'>9</a>\u001b[0m \u001b[39mprint\u001b[39m(driver\u001b[39m.\u001b[39mtitle)\n\u001b[1;32m     <a href='vscode-notebook-cell:/Users/colleenmccamy/Documents/MEDS/selenium-repo/selenium-tutorial/colleen-notebook.ipynb#W4sZmlsZQ%3D%3D?line=9'>10</a>\u001b[0m search \u001b[39m=\u001b[39m driver\u001b[39m.\u001b[39mfind_element(By\u001b[39m.\u001b[39mID,\u001b[39m\"\u001b[39m\u001b[39mcommunities-section\u001b[39m\u001b[39m\"\u001b[39m)\n",
      "File \u001b[0;32m~/opt/anaconda3/envs/eds-217/lib/python3.10/site-packages/selenium/webdriver/remote/webdriver.py:440\u001b[0m, in \u001b[0;36mWebDriver.get\u001b[0;34m(self, url)\u001b[0m\n\u001b[1;32m    436\u001b[0m \u001b[39mdef\u001b[39;00m \u001b[39mget\u001b[39m(\u001b[39mself\u001b[39m, url: \u001b[39mstr\u001b[39m) \u001b[39m-\u001b[39m\u001b[39m>\u001b[39m \u001b[39mNone\u001b[39;00m:\n\u001b[1;32m    437\u001b[0m     \u001b[39m\"\"\"\u001b[39;00m\n\u001b[1;32m    438\u001b[0m \u001b[39m    Loads a web page in the current browser session.\u001b[39;00m\n\u001b[1;32m    439\u001b[0m \u001b[39m    \"\"\"\u001b[39;00m\n\u001b[0;32m--> 440\u001b[0m     \u001b[39mself\u001b[39;49m\u001b[39m.\u001b[39;49mexecute(Command\u001b[39m.\u001b[39;49mGET, {\u001b[39m'\u001b[39;49m\u001b[39murl\u001b[39;49m\u001b[39m'\u001b[39;49m: url})\n",
      "File \u001b[0;32m~/opt/anaconda3/envs/eds-217/lib/python3.10/site-packages/selenium/webdriver/remote/webdriver.py:428\u001b[0m, in \u001b[0;36mWebDriver.execute\u001b[0;34m(self, driver_command, params)\u001b[0m\n\u001b[1;32m    426\u001b[0m response \u001b[39m=\u001b[39m \u001b[39mself\u001b[39m\u001b[39m.\u001b[39mcommand_executor\u001b[39m.\u001b[39mexecute(driver_command, params)\n\u001b[1;32m    427\u001b[0m \u001b[39mif\u001b[39;00m response:\n\u001b[0;32m--> 428\u001b[0m     \u001b[39mself\u001b[39;49m\u001b[39m.\u001b[39;49merror_handler\u001b[39m.\u001b[39;49mcheck_response(response)\n\u001b[1;32m    429\u001b[0m     response[\u001b[39m'\u001b[39m\u001b[39mvalue\u001b[39m\u001b[39m'\u001b[39m] \u001b[39m=\u001b[39m \u001b[39mself\u001b[39m\u001b[39m.\u001b[39m_unwrap_value(\n\u001b[1;32m    430\u001b[0m         response\u001b[39m.\u001b[39mget(\u001b[39m'\u001b[39m\u001b[39mvalue\u001b[39m\u001b[39m'\u001b[39m, \u001b[39mNone\u001b[39;00m))\n\u001b[1;32m    431\u001b[0m     \u001b[39mreturn\u001b[39;00m response\n",
      "File \u001b[0;32m~/opt/anaconda3/envs/eds-217/lib/python3.10/site-packages/selenium/webdriver/remote/errorhandler.py:243\u001b[0m, in \u001b[0;36mErrorHandler.check_response\u001b[0;34m(self, response)\u001b[0m\n\u001b[1;32m    241\u001b[0m         alert_text \u001b[39m=\u001b[39m value[\u001b[39m'\u001b[39m\u001b[39malert\u001b[39m\u001b[39m'\u001b[39m]\u001b[39m.\u001b[39mget(\u001b[39m'\u001b[39m\u001b[39mtext\u001b[39m\u001b[39m'\u001b[39m)\n\u001b[1;32m    242\u001b[0m     \u001b[39mraise\u001b[39;00m exception_class(message, screen, stacktrace, alert_text)  \u001b[39m# type: ignore[call-arg]  # mypy is not smart enough here\u001b[39;00m\n\u001b[0;32m--> 243\u001b[0m \u001b[39mraise\u001b[39;00m exception_class(message, screen, stacktrace)\n",
      "\u001b[0;31mNoSuchWindowException\u001b[0m: Message: no such window: window was already closed\n  (Session info: chrome=105.0.5195.102)\nStacktrace:\n0   chromedriver                        0x00000001024b3149 chromedriver + 4469065\n1   chromedriver                        0x000000010243d233 chromedriver + 3985971\n2   chromedriver                        0x00000001020d3fe8 chromedriver + 409576\n3   chromedriver                        0x00000001020b663d chromedriver + 288317\n4   chromedriver                        0x00000001020ba652 chromedriver + 304722\n5   chromedriver                        0x00000001020bf56c chromedriver + 324972\n6   chromedriver                        0x00000001020d5412 chromedriver + 414738\n7   chromedriver                        0x0000000102139ccb chromedriver + 826571\n8   chromedriver                        0x0000000102127b53 chromedriver + 752467\n9   chromedriver                        0x00000001020fd905 chromedriver + 579845\n10  chromedriver                        0x00000001020fe955 chromedriver + 584021\n11  chromedriver                        0x00000001024846ad chromedriver + 4277933\n12  chromedriver                        0x0000000102488b3a chromedriver + 4295482\n13  chromedriver                        0x000000010248dcdf chromedriver + 4316383\n14  chromedriver                        0x0000000102489857 chromedriver + 4298839\n15  chromedriver                        0x000000010246264f chromedriver + 4138575\n16  chromedriver                        0x00000001024a41f8 chromedriver + 4407800\n17  chromedriver                        0x00000001024a437f chromedriver + 4408191\n18  chromedriver                        0x00000001024bacb5 chromedriver + 4500661\n19  libsystem_pthread.dylib             0x00007ff8184a54e1 _pthread_start + 125\n20  libsystem_pthread.dylib             0x00007ff8184a0f6b thread_start + 15\n"
     ]
    }
   ],
   "source": [
    "#options = Options()\n",
    "#options.headless = True\n",
    "#options.add_argument(\"--window-size=1920,1200\")\n",
    "\n",
    "#driver = webdriver.Chrome(options=options, executable_path=path)\n",
    "\n",
    "\n",
    "# driver.get(\"https://www.sciencebase.gov/catalog/item/62fab44bd34e25bd09287e9d\")\n",
    "# print(driver.title)\n",
    "# search = driver.find_element(By.ID,\"communities-section\")\n",
    "\n",
    "# try:\n",
    "#     main = WebDriverWait(driver, 10).until(\n",
    "#         EC.presence_of_all_elements_located(By.ID)\n",
    "#     )\n",
    "   \n",
    "# finally:\n",
    "#     driver.quit()"
   ]
  },
  {
   "cell_type": "code",
   "execution_count": null,
   "metadata": {},
   "outputs": [],
   "source": [
    "\n"
   ]
  },
  {
   "cell_type": "code",
   "execution_count": null,
   "metadata": {},
   "outputs": [],
   "source": []
  }
 ],
 "metadata": {
  "kernelspec": {
   "display_name": "Python 3.10.5 ('eds-217')",
   "language": "python",
   "name": "python3"
  },
  "language_info": {
   "codemirror_mode": {
    "name": "ipython",
    "version": 3
   },
   "file_extension": ".py",
   "mimetype": "text/x-python",
   "name": "python",
   "nbconvert_exporter": "python",
   "pygments_lexer": "ipython3",
   "version": "3.10.5"
  },
  "orig_nbformat": 4,
  "vscode": {
   "interpreter": {
    "hash": "887da037b427e4b99c7821a3ace74f381e75d170ea21b461a22111a111d129df"
   }
  }
 },
 "nbformat": 4,
 "nbformat_minor": 2
}
