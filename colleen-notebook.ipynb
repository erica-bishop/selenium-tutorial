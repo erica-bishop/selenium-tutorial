{
 "cells": [
  {
   "cell_type": "code",
   "execution_count": 5,
   "metadata": {},
   "outputs": [],
   "source": [
    "import selenium\n",
    "from selenium import webdriver"
   ]
  },
  {
   "cell_type": "code",
   "execution_count": 13,
   "metadata": {},
   "outputs": [
    {
     "name": "stderr",
     "output_type": "stream",
     "text": [
      "/var/folders/q7/j7jknlxd3s5ds0bbtnh3q5g40000gn/T/ipykernel_93339/296928225.py:2: DeprecationWarning: executable_path has been deprecated, please pass in a Service object\n",
      "  driver = webdriver.Chrome(path)\n"
     ]
    },
    {
     "name": "stdout",
     "output_type": "stream",
     "text": [
      "Academics: MEDS Program | UCSB Bren School of Environmental Science & Management\n"
     ]
    }
   ],
   "source": [
    "path = \"/Users/colleenmccamy/Documents/MEDS/selenium-repo/chromedriver\"\n",
    "driver = webdriver.Chrome(path)\n",
    "from selenium.webdriver.chrome.options import Options\n",
    "\n",
    "#options = Options()\n",
    "#options.headless = True\n",
    "#options.add_argument(\"--window-size=1920,1200\")\n",
    "\n",
    "#driver = webdriver.Chrome(options=options, executable_path=path)\n",
    "\n",
    "\n",
    "driver.get(\"https://bren.ucsb.edu/masters-programs/master-environmental-data-science/academics-meds\")\n",
    "print(driver.title)\n",
    "driver.close()\n"
   ]
  },
  {
   "cell_type": "code",
   "execution_count": null,
   "metadata": {},
   "outputs": [],
   "source": []
  }
 ],
 "metadata": {
  "kernelspec": {
   "display_name": "Python 3.10.5 ('eds-217')",
   "language": "python",
   "name": "python3"
  },
  "language_info": {
   "codemirror_mode": {
    "name": "ipython",
    "version": 3
   },
   "file_extension": ".py",
   "mimetype": "text/x-python",
   "name": "python",
   "nbconvert_exporter": "python",
   "pygments_lexer": "ipython3",
   "version": "3.10.5"
  },
  "orig_nbformat": 4,
  "vscode": {
   "interpreter": {
    "hash": "887da037b427e4b99c7821a3ace74f381e75d170ea21b461a22111a111d129df"
   }
  }
 },
 "nbformat": 4,
 "nbformat_minor": 2
}
